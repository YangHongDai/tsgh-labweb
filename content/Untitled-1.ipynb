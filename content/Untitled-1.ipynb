{
 "cells": [
  {
   "cell_type": "code",
   "execution_count": 14,
   "metadata": {},
   "outputs": [],
   "source": [
    "class Vault:\n",
    "      def __init__(self, a=0,b=0,c=0):\n",
    "            self.a=a\n",
    "            self.b=b\n",
    "            self.c=c\n",
    "      def __add__(self,other):\n",
    "            return Vault(self.a + other.a,\n",
    "            self.b+other.b,\n",
    "            self.c+other.c) \n",
    "      def __repr__(self):\n",
    "            return f\"{self.a} a, {self.b} b, {self.c} c\"  \n"
   ]
  },
  {
   "cell_type": "code",
   "execution_count": 15,
   "metadata": {},
   "outputs": [
    {
     "name": "stdout",
     "output_type": "stream",
     "text": [
      "30 a, 20 b, 14 c\n"
     ]
    }
   ],
   "source": [
    "David = Vault(20,10,4)\n",
    "Jack = Vault(10,10,10)\n",
    "print(David+Jack)"
   ]
  },
  {
   "cell_type": "code",
   "execution_count": 13,
   "metadata": {},
   "outputs": [
    {
     "name": "stdout",
     "output_type": "stream",
     "text": [
      "30 20 14\n"
     ]
    }
   ],
   "source": [
    "total = David+Jack\n",
    "print(total.a, total.b, total.c)"
   ]
  },
  {
   "cell_type": "code",
   "execution_count": null,
   "metadata": {},
   "outputs": [],
   "source": []
  }
 ],
 "metadata": {
  "kernelspec": {
   "display_name": "Python 3.9.21",
   "language": "python",
   "name": "python3.9"
  },
  "language_info": {
   "codemirror_mode": {
    "name": "ipython",
    "version": 3
   },
   "file_extension": ".py",
   "mimetype": "text/x-python",
   "name": "python",
   "nbconvert_exporter": "python",
   "pygments_lexer": "ipython3",
   "version": "3.9.22"
  },
  "orig_nbformat": 4
 },
 "nbformat": 4,
 "nbformat_minor": 2
}
